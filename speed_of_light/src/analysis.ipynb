{
 "cells": [
  {
   "cell_type": "markdown",
   "metadata": {},
   "source": [
    "#Speed of light"
   ]
  },
  {
   "cell_type": "code",
   "execution_count": 2,
   "metadata": {
    "collapsed": false
   },
   "outputs": [],
   "source": [
    "import numpy as np\n",
    "import matplotlib.pyplot as plt\n",
    "% matplotlib inline\n",
    "from matplotlib import rc\n",
    "from pylab import rcParams\n",
    "import statsmodels.api as sm\n",
    "import uncertainties as un\n",
    "from uncertainties import ufloat"
   ]
  },
  {
   "cell_type": "code",
   "execution_count": 7,
   "metadata": {
    "collapsed": false
   },
   "outputs": [],
   "source": [
    "dataset = np.genfromtxt(\"../data/data_set_2.csv\", delimiter=',', skip_header=True)"
   ]
  },
  {
   "cell_type": "code",
   "execution_count": 8,
   "metadata": {
    "collapsed": false,
    "scrolled": false
   },
   "outputs": [
    {
     "data": {
      "text/plain": [
       "array([[  15.    ,    4.572 ,    0.    ,  154.    ,    0.    ],\n",
       "       [  17.    ,    5.1816,    1.2192,  158.    ,    4.    ],\n",
       "       [  19.    ,    5.7912,    2.4384,  160.    ,    6.    ],\n",
       "       [  21.    ,    6.4008,    3.6576,  162.    ,    8.    ],\n",
       "       [  23.    ,    7.0104,    4.8768,  164.    ,   10.    ],\n",
       "       [  25.    ,    7.62  ,    6.096 ,  164.    ,   10.    ],\n",
       "       [  27.    ,    8.2296,    7.3152,  166.    ,   12.    ],\n",
       "       [  29.    ,    8.8392,    8.5344,  164.    ,   10.    ],\n",
       "       [  31.    ,    9.4488,    9.7536,  172.    ,   18.    ],\n",
       "       [  33.    ,   10.0584,   10.9728,  186.    ,   32.    ],\n",
       "       [  35.    ,   10.668 ,   12.192 ,  190.    ,   36.    ],\n",
       "       [  37.    ,   11.2776,   13.4112,  194.    ,   40.    ],\n",
       "       [  39.    ,   11.8872,   14.6304,  204.    ,   50.    ],\n",
       "       [  41.    ,   12.4968,   15.8496,  208.    ,   54.    ],\n",
       "       [  43.    ,   13.1064,   17.0688,  218.    ,   64.    ],\n",
       "       [  45.    ,   13.716 ,   18.288 ,  248.    ,   94.    ],\n",
       "       [  47.    ,   14.3256,   19.5072,  250.    ,   96.    ],\n",
       "       [  49.    ,   14.9352,   20.7264,  244.    ,   90.    ],\n",
       "       [  51.    ,   15.5448,   21.9456,  248.    ,   94.    ],\n",
       "       [  53.    ,   16.1544,   23.1648,  250.    ,   96.    ],\n",
       "       [  55.    ,   16.764 ,   24.384 ,  248.    ,   94.    ],\n",
       "       [  57.    ,   17.3736,   25.6032,  250.    ,   96.    ],\n",
       "       [  59.    ,   17.9832,   26.8224,  238.    ,   84.    ],\n",
       "       [  61.    ,   18.5928,   28.0416,  234.    ,   80.    ],\n",
       "       [  63.    ,   19.2024,   29.2608,  236.    ,   82.    ],\n",
       "       [  65.    ,   19.812 ,   30.48  ,  238.    ,   84.    ],\n",
       "       [  67.    ,   20.4216,   31.6992,  240.    ,   86.    ]])"
      ]
     },
     "execution_count": 8,
     "metadata": {},
     "output_type": "execute_result"
    }
   ],
   "source": [
    "dataset"
   ]
  },
  {
   "cell_type": "code",
   "execution_count": 9,
   "metadata": {
    "collapsed": false
   },
   "outputs": [
    {
     "data": {
      "image/png": "[encoded data removed]",
      "text/plain": [
       "<matplotlib.figure.Figure at 0x1109445c0>"
      ]
     },
     "metadata": {},
     "output_type": "display_data"
    }
   ],
   "source": [
    "plt.plot(dataset[:, 2], dataset[:, 4], \"ro\")\n",
    "plt.show()"
   ]
  },
  {
   "cell_type": "code",
   "execution_count": null,
   "metadata": {
    "collapsed": true
   },
   "outputs": [],
   "source": []
  }
 ],
 "metadata": {
  "kernelspec": {
   "display_name": "Python 3",
   "language": "python",
   "name": "python3"
  },
  "language_info": {
   "codemirror_mode": {
    "name": "ipython",
    "version": 3
   },
   "file_extension": ".py",
   "mimetype": "text/x-python",
   "name": "python",
   "nbconvert_exporter": "python",
   "pygments_lexer": "ipython3",
   "version": "3.4.4"
  }
 },
 "nbformat": 4,
 "nbformat_minor": 0
}
