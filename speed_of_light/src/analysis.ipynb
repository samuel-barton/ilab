{
 "cells": [
  {
   "cell_type": "markdown",
   "metadata": {},
   "source": [
    "#Speed of light"
   ]
  },
  {
   "cell_type": "code",
   "execution_count": 2,
   "metadata": {
    "collapsed": false
   },
   "outputs": [],
   "source": [
    "import numpy as np\n",
    "import matplotlib.pyplot as plt\n",
    "% matplotlib inline\n",
    "from matplotlib import rc\n",
    "from pylab import rcParams\n",
    "import statsmodels.api as sm\n",
    "import uncertainties as un\n",
    "from uncertainties import ufloat"
   ]
  },
  {
   "cell_type": "code",
   "execution_count": 3,
   "metadata": {
    "collapsed": false
   },
   "outputs": [],
   "source": [
    "dataset = np.genfromtxt(\"../data/data_set_2.csv\", delimiter=',', skip_header=True)"
   ]
  },
  {
   "cell_type": "code",
   "execution_count": 4,
   "metadata": {
    "collapsed": false,
    "scrolled": false
   },
   "outputs": [
    {
     "data": {
      "text/plain": [
       "array([[  15.    ,    4.572 ,    0.    ,  154.    ,    0.    ],\n",
       "       [  17.    ,    5.1816,    1.2192,  158.    ,    4.    ],\n",
       "       [  19.    ,    5.7912,    2.4384,  160.    ,    6.    ],\n",
       "       [  21.    ,    6.4008,    3.6576,  162.    ,    8.    ],\n",
       "       [  23.    ,    7.0104,    4.8768,  164.    ,   10.    ],\n",
       "       [  25.    ,    7.62  ,    6.096 ,  164.    ,   10.    ],\n",
       "       [  27.    ,    8.2296,    7.3152,  166.    ,   12.    ],\n",
       "       [  29.    ,    8.8392,    8.5344,  164.    ,   10.    ],\n",
       "       [  31.    ,    9.4488,    9.7536,  172.    ,   18.    ],\n",
       "       [  33.    ,   10.0584,   10.9728,  186.    ,   32.    ],\n",
       "       [  35.    ,   10.668 ,   12.192 ,  190.    ,   36.    ],\n",
       "       [  37.    ,   11.2776,   13.4112,  194.    ,   40.    ],\n",
       "       [  39.    ,   11.8872,   14.6304,  204.    ,   50.    ],\n",
       "       [  41.    ,   12.4968,   15.8496,  208.    ,   54.    ],\n",
       "       [  43.    ,   13.1064,   17.0688,  218.    ,   64.    ],\n",
       "       [  45.    ,   13.716 ,   18.288 ,  248.    ,   94.    ],\n",
       "       [  47.    ,   14.3256,   19.5072,  250.    ,   96.    ],\n",
       "       [  49.    ,   14.9352,   20.7264,  244.    ,   90.    ],\n",
       "       [  51.    ,   15.5448,   21.9456,  248.    ,   94.    ],\n",
       "       [  53.    ,   16.1544,   23.1648,  250.    ,   96.    ],\n",
       "       [  55.    ,   16.764 ,   24.384 ,  248.    ,   94.    ],\n",
       "       [  57.    ,   17.3736,   25.6032,  250.    ,   96.    ],\n",
       "       [  59.    ,   17.9832,   26.8224,  238.    ,   84.    ],\n",
       "       [  61.    ,   18.5928,   28.0416,  234.    ,   80.    ],\n",
       "       [  63.    ,   19.2024,   29.2608,  236.    ,   82.    ],\n",
       "       [  65.    ,   19.812 ,   30.48  ,  238.    ,   84.    ],\n",
       "       [  67.    ,   20.4216,   31.6992,  240.    ,   86.    ]])"
      ]
     },
     "execution_count": 4,
     "metadata": {},
     "output_type": "execute_result"
    }
   ],
   "source": [
    "dataset"
   ]
  },
  {
   "cell_type": "code",
   "execution_count": null,
   "metadata": {
    "collapsed": false
   },
   "outputs": [],
   "source": []
  },
  {
   "cell_type": "code",
   "execution_count": 18,
   "metadata": {
    "collapsed": false
   },
   "outputs": [
    {
     "data": {
      "text/html": [
       "<table class=\"simpletable\">\n",
       "<caption>OLS Regression Results</caption>\n",
       "<tr>\n",
       "  <th>Dep. Variable:</th>            <td>y</td>        <th>  R-squared:         </th> <td>   0.949</td>\n",
       "</tr>\n",
       "<tr>\n",
       "  <th>Model:</th>                   <td>OLS</td>       <th>  Adj. R-squared:    </th> <td>   0.947</td>\n",
       "</tr>\n",
       "<tr>\n",
       "  <th>Method:</th>             <td>Least Squares</td>  <th>  F-statistic:       </th> <td>   484.3</td>\n",
       "</tr>\n",
       "<tr>\n",
       "  <th>Date:</th>             <td>Fri, 04 Mar 2016</td> <th>  Prob (F-statistic):</th> <td>2.48e-18</td>\n",
       "</tr>\n",
       "<tr>\n",
       "  <th>Time:</th>                 <td>15:11:29</td>     <th>  Log-Likelihood:    </th> <td> -76.870</td>\n",
       "</tr>\n",
       "<tr>\n",
       "  <th>No. Observations:</th>      <td>    27</td>      <th>  AIC:               </th> <td>   155.7</td>\n",
       "</tr>\n",
       "<tr>\n",
       "  <th>Df Residuals:</th>          <td>    26</td>      <th>  BIC:               </th> <td>   157.0</td>\n",
       "</tr>\n",
       "<tr>\n",
       "  <th>Df Model:</th>              <td>     1</td>      <th>                     </th>     <td> </td>   \n",
       "</tr>\n",
       "<tr>\n",
       "  <th>Covariance Type:</th>      <td>nonrobust</td>    <th>                     </th>     <td> </td>   \n",
       "</tr>\n",
       "</table>\n",
       "<table class=\"simpletable\">\n",
       "<tr>\n",
       "   <td></td>     <th>coef</th>     <th>std err</th>      <th>t</th>      <th>P>|t|</th> <th>[95.0% Conf. Int.]</th> \n",
       "</tr>\n",
       "<tr>\n",
       "  <th>x1</th> <td>    0.2805</td> <td>    0.013</td> <td>   22.006</td> <td> 0.000</td> <td>    0.254     0.307</td>\n",
       "</tr>\n",
       "</table>\n",
       "<table class=\"simpletable\">\n",
       "<tr>\n",
       "  <th>Omnibus:</th>       <td> 1.418</td> <th>  Durbin-Watson:     </th> <td>   0.239</td>\n",
       "</tr>\n",
       "<tr>\n",
       "  <th>Prob(Omnibus):</th> <td> 0.492</td> <th>  Jarque-Bera (JB):  </th> <td>   1.193</td>\n",
       "</tr>\n",
       "<tr>\n",
       "  <th>Skew:</th>          <td>-0.487</td> <th>  Prob(JB):          </th> <td>   0.551</td>\n",
       "</tr>\n",
       "<tr>\n",
       "  <th>Kurtosis:</th>      <td> 2.664</td> <th>  Cond. No.          </th> <td>    1.00</td>\n",
       "</tr>\n",
       "</table>"
      ],
      "text/plain": [
       "<class 'statsmodels.iolib.summary.Summary'>\n",
       "\"\"\"\n",
       "                            OLS Regression Results                            \n",
       "==============================================================================\n",
       "Dep. Variable:                      y   R-squared:                       0.949\n",
       "Model:                            OLS   Adj. R-squared:                  0.947\n",
       "Method:                 Least Squares   F-statistic:                     484.3\n",
       "Date:                Fri, 04 Mar 2016   Prob (F-statistic):           2.48e-18\n",
       "Time:                        15:11:29   Log-Likelihood:                -76.870\n",
       "No. Observations:                  27   AIC:                             155.7\n",
       "Df Residuals:                      26   BIC:                             157.0\n",
       "Df Model:                           1                                         \n",
       "Covariance Type:            nonrobust                                         \n",
       "==============================================================================\n",
       "                 coef    std err          t      P>|t|      [95.0% Conf. Int.]\n",
       "------------------------------------------------------------------------------\n",
       "x1             0.2805      0.013     22.006      0.000         0.254     0.307\n",
       "==============================================================================\n",
       "Omnibus:                        1.418   Durbin-Watson:                   0.239\n",
       "Prob(Omnibus):                  0.492   Jarque-Bera (JB):                1.193\n",
       "Skew:                          -0.487   Prob(JB):                        0.551\n",
       "Kurtosis:                       2.664   Cond. No.                         1.00\n",
       "==============================================================================\n",
       "\n",
       "Warnings:\n",
       "[1] Standard Errors assume that the covariance matrix of the errors is correctly specified.\n",
       "\"\"\""
      ]
     },
     "execution_count": 18,
     "metadata": {},
     "output_type": "execute_result"
    }
   ],
   "source": [
    "est = sm.OLS(dataset[:, 2], dataset[:, 4])\n",
    "est = est.fit()\n",
    "\n",
    "x_prime = np.linspace(np.amin(dataset[:,4]), np.amax(dataset[:,4]), 100)\n",
    "#x_prime = np.linspace(0, np.amax(X), 1000)\n",
    "x_prime = sm.add_constant(x_prime)\n",
    "y_predicted = est.predict(dataset[:,4])\n",
    "\n",
    "est.summary()"
   ]
  },
  {
   "cell_type": "code",
   "execution_count": 19,
   "metadata": {
    "collapsed": false
   },
   "outputs": [
    {
     "data": {
      "image/png": "[encoded data removed]",
      "text/plain": [
       "<matplotlib.figure.Figure at 0x113184e10>"
      ]
     },
     "metadata": {},
     "output_type": "display_data"
    }
   ],
   "source": [
    "plt.plot(dataset[:,4], y_predicted, 'b')\n",
    "plt.plot(dataset[:, 4], dataset[:, 2], \"ro\")\n",
    "plt.show()"
   ]
  },
  {
   "cell_type": "code",
   "execution_count": 20,
   "metadata": {
    "collapsed": false
   },
   "outputs": [
    {
     "data": {
      "text/plain": [
       "array([ 0.2804717])"
      ]
     },
     "execution_count": 20,
     "metadata": {},
     "output_type": "execute_result"
    }
   ],
   "source": [
    "est.params"
   ]
  },
  {
   "cell_type": "code",
   "execution_count": null,
   "metadata": {
    "collapsed": true
   },
   "outputs": [],
   "source": []
  }
 ],
 "metadata": {
  "kernelspec": {
   "display_name": "Python 3",
   "language": "python",
   "name": "python3"
  },
  "language_info": {
   "codemirror_mode": {
    "name": "ipython",
    "version": 3
   },
   "file_extension": ".py",
   "mimetype": "text/x-python",
   "name": "python",
   "nbconvert_exporter": "python",
   "pygments_lexer": "ipython3",
   "version": "3.4.4"
  }
 },
 "nbformat": 4,
 "nbformat_minor": 0
}
