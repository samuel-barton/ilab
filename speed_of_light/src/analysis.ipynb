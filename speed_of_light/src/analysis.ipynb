{
 "cells": [
  {
   "cell_type": "markdown",
   "metadata": {},
   "source": [
    "#Speed of light"
   ]
  },
  {
   "cell_type": "code",
   "execution_count": 5,
   "metadata": {
    "collapsed": false
   },
   "outputs": [],
   "source": [
    "import numpy as np\n",
    "import matplotlib.pyplot as plt\n",
    "% matplotlib inline\n",
    "from matplotlib import rc\n",
    "from pylab import rcParams\n",
    "import statsmodels.api as sm\n",
    "import uncertainties as un\n",
    "from uncertainties import ufloat"
   ]
  },
  {
   "cell_type": "code",
   "execution_count": 20,
   "metadata": {
    "collapsed": false
   },
   "outputs": [],
   "source": [
    "dataset = []\n",
    "\n",
    "# Range is inclusive, thus even though the filenames run from v1r1 through v7r5, we need upper limits of 8 and 6.\n",
    "for i in range(15, 65, 5):\n",
    "    dataset.append(np.genfromtxt(\"../data/Data - {}ft.csv\".format(i), delimiter=','))"
   ]
  },
  {
   "cell_type": "code",
   "execution_count": 21,
   "metadata": {
    "collapsed": false
   },
   "outputs": [
    {
     "data": {
      "text/plain": [
       "[array([[             nan,              nan,              nan,\n",
       "                      nan,              nan],\n",
       "        [  1.60000000e-07,              nan,  -7.12000000e-07,\n",
       "          -5.52000000e-07,              nan],\n",
       "        [  1.48000000e-07,              nan,  -7.48000000e-07,\n",
       "          -6.00000000e-07,              nan],\n",
       "        [  1.64000000e-07,              nan,  -5.08000000e-07,\n",
       "          -3.44000000e-07,              nan],\n",
       "        [  1.88000000e-07,              nan,  -6.00000000e-07,\n",
       "          -4.12000000e-07,              nan],\n",
       "        [  1.48000000e-07,              nan,  -4.88000000e-07,\n",
       "          -3.40000000e-07,              nan],\n",
       "        [  1.32000000e-07,              nan,  -4.32000000e-07,\n",
       "          -3.00000000e-07,              nan],\n",
       "        [  1.24000000e-07,              nan,  -3.92000000e-07,\n",
       "          -2.68000000e-07,              nan],\n",
       "        [  1.52000000e-07,              nan,  -6.52000000e-07,\n",
       "          -5.00000000e-07,              nan],\n",
       "        [  1.42000000e-07,              nan,  -3.56000000e-07,\n",
       "          -2.14000000e-07,              nan],\n",
       "        [  1.44000000e-07,              nan,  -3.52000000e-07,\n",
       "          -2.08000000e-07,              nan]]),\n",
       " array([[             nan,              nan,              nan,\n",
       "                      nan,              nan],\n",
       "        [  2.08000000e-07,              nan,  -3.50000000e-07,\n",
       "          -1.42000000e-07,              nan],\n",
       "        [  1.88000000e-07,              nan,  -3.20000000e-07,\n",
       "          -1.32000000e-07,              nan],\n",
       "        [  1.80000000e-07,              nan,  -2.86000000e-07,\n",
       "          -1.06000000e-07,              nan],\n",
       "        [  1.74000000e-07,              nan,  -2.62000000e-07,\n",
       "          -8.80000000e-08,              nan],\n",
       "        [  1.72000000e-07,              nan,  -2.46000000e-07,\n",
       "          -7.40000000e-08,              nan],\n",
       "        [  1.68000000e-07,              nan,  -2.30000000e-07,\n",
       "          -6.20000000e-08,              nan],\n",
       "        [  1.54000000e-07,              nan,  -2.18000000e-07,\n",
       "          -6.40000000e-08,              nan],\n",
       "        [  1.56000000e-07,              nan,  -2.02000000e-07,\n",
       "          -4.60000000e-08,              nan],\n",
       "        [  1.52000000e-07,              nan,  -1.98000000e-07,\n",
       "          -4.60000000e-08,              nan],\n",
       "        [  1.84000000e-07,              nan,  -1.94000000e-07,\n",
       "          -1.00000000e-08,              nan]]),\n",
       " array([[             nan,              nan,              nan,\n",
       "                      nan,              nan],\n",
       "        [  6.40000000e-08,              nan,   1.52000000e-07,\n",
       "           2.16000000e-07,              nan],\n",
       "        [  1.08000000e-07,              nan,   1.20000000e-07,\n",
       "           2.28000000e-07,              nan],\n",
       "        [  1.26000000e-07,              nan,   8.80000000e-08,\n",
       "           2.14000000e-07,              nan],\n",
       "        [  8.20000000e-08,              nan,   1.48000000e-07,\n",
       "           2.30000000e-07,              nan],\n",
       "        [  1.34000000e-07,              nan,   7.60000000e-08,\n",
       "           2.10000000e-07,              nan],\n",
       "        [  1.30000000e-07,              nan,   8.20000000e-08,\n",
       "           2.12000000e-07,              nan]]),\n",
       " array([[             nan,              nan,              nan,\n",
       "                      nan,              nan],\n",
       "        [  1.18000000e-07,              nan,   7.40000000e-08,\n",
       "           1.92000000e-07,              nan],\n",
       "        [  1.12000000e-07,              nan,   8.00000000e-08,\n",
       "           1.92000000e-07,              nan],\n",
       "        [  7.40000000e-08,              nan,   1.16000000e-07,\n",
       "           1.90000000e-07,              nan],\n",
       "        [  1.34000000e-07,              nan,   6.20000000e-08,\n",
       "           1.96000000e-07,              nan],\n",
       "        [  7.80000000e-08,              nan,   1.16000000e-07,\n",
       "           1.94000000e-07,              nan]]),\n",
       " array([[             nan,              nan,              nan,\n",
       "                      nan,              nan],\n",
       "        [  8.60000000e-08,              nan,   1.16000000e-07,\n",
       "           2.02000000e-07,              nan],\n",
       "        [  1.12000000e-07,              nan,   1.02000000e-07,\n",
       "           2.14000000e-07,              nan],\n",
       "        [  1.36000000e-07,              nan,   7.60000000e-08,\n",
       "           2.12000000e-07,              nan],\n",
       "        [  1.70000000e-07,              nan,   6.40000000e-08,\n",
       "           2.34000000e-07,              nan]]),\n",
       " array([[             nan,              nan,              nan,\n",
       "                      nan,              nan],\n",
       "        [  1.90000000e-07,              nan,   1.10000000e-07,\n",
       "           3.00000000e-07,              nan],\n",
       "        [  1.92000000e-07,              nan,   6.20000000e-08,\n",
       "           2.54000000e-07,              nan],\n",
       "        [  1.90000000e-07,              nan,   7.00000000e-08,\n",
       "           2.60000000e-07,              nan],\n",
       "        [  1.82000000e-07,              nan,   9.20000000e-08,\n",
       "           2.74000000e-07,              nan]]),\n",
       " array([[             nan,              nan,              nan,\n",
       "                      nan,              nan],\n",
       "        [  2.02000000e-07,              nan,   1.12000000e-07,\n",
       "           3.14000000e-07,              nan],\n",
       "        [  2.06000000e-07,              nan,   1.00000000e-07,\n",
       "           3.06000000e-07,              nan],\n",
       "        [  2.10000000e-07,              nan,   8.20000000e-08,\n",
       "           2.92000000e-07,              nan],\n",
       "        [  2.12000000e-07,              nan,   7.00000000e-08,\n",
       "           2.82000000e-07,              nan]]),\n",
       " array([[             nan,              nan,              nan,\n",
       "                      nan,              nan],\n",
       "        [  2.20000000e-07,              nan,   6.00000000e-08,\n",
       "           2.80000000e-07,              nan],\n",
       "        [  2.16000000e-07,              nan,   7.20000000e-08,\n",
       "           2.88000000e-07,              nan],\n",
       "        [  2.12000000e-07,              nan,   8.60000000e-08,\n",
       "           2.98000000e-07,              nan],\n",
       "        [  2.08000000e-07,              nan,   1.14000000e-07,\n",
       "           3.22000000e-07,              nan]]),\n",
       " array([[             nan,              nan,              nan,\n",
       "                      nan,              nan],\n",
       "        [  2.20000000e-07,              nan,   1.14000000e-07,\n",
       "           3.34000000e-07,              nan],\n",
       "        [  2.22000000e-07,              nan,   9.80000000e-08,\n",
       "           3.20000000e-07,              nan],\n",
       "        [  2.26000000e-07,              nan,   7.40000000e-08,\n",
       "           3.00000000e-07,              nan],\n",
       "        [  2.28000000e-07,              nan,   6.60000000e-08,\n",
       "           2.94000000e-07,              nan]]),\n",
       " array([[             nan,              nan,              nan,\n",
       "                      nan,              nan],\n",
       "        [  1.94000000e-07,              nan,   1.10000000e-07,\n",
       "           3.04000000e-07,              nan],\n",
       "        [  2.20000000e-07,              nan,   9.40000000e-08,\n",
       "           3.14000000e-07,              nan],\n",
       "        [  2.30000000e-07,              nan,   7.00000000e-08,\n",
       "           3.00000000e-07,              nan],\n",
       "        [  2.30000000e-07,              nan,   5.80000000e-08,\n",
       "           2.88000000e-07,              nan]])]"
      ]
     },
     "execution_count": 21,
     "metadata": {},
     "output_type": "execute_result"
    }
   ],
   "source": [
    "dataset"
   ]
  },
  {
   "cell_type": "code",
   "execution_count": null,
   "metadata": {
    "collapsed": true
   },
   "outputs": [],
   "source": []
  }
 ],
 "metadata": {
  "kernelspec": {
   "display_name": "Python 3",
   "language": "python",
   "name": "python3"
  },
  "language_info": {
   "codemirror_mode": {
    "name": "ipython",
    "version": 3
   },
   "file_extension": ".py",
   "mimetype": "text/x-python",
   "name": "python",
   "nbconvert_exporter": "python",
   "pygments_lexer": "ipython3",
   "version": "3.4.4"
  }
 },
 "nbformat": 4,
 "nbformat_minor": 0
}
