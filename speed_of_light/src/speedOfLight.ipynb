{
 "cells": [
  {
   "cell_type": "code",
   "execution_count": 1,
   "metadata": {
    "collapsed": true
   },
   "outputs": [],
   "source": [
    "import numpy as np\n",
    "import matplotlib.pyplot as plt\n",
    "from scipy.optimize import curve_fit\n",
    "% matplotlib inline\n",
    "from matplotlib import rc\n",
    "rc('text', usetex=True)\n",
    "from pylab import rcParams\n",
    "rcParams['figure.figsize'] = 10,8"
   ]
  },
  {
   "cell_type": "code",
   "execution_count": 2,
   "metadata": {
    "collapsed": true
   },
   "outputs": [],
   "source": [
    "def linearFit(t, m, b): \n",
    "    return m*t + b\n",
    "\n",
    "#defines linear fit function"
   ]
  },
  {
   "cell_type": "code",
   "execution_count": 4,
   "metadata": {
    "collapsed": false
   },
   "outputs": [],
   "source": [
    "data = np.genfromtxt('../data/data.csv', delimiter = ',', skip_header=True)\n",
    "#imports data from text file"
   ]
  },
  {
   "cell_type": "code",
   "execution_count": 5,
   "metadata": {
    "collapsed": false
   },
   "outputs": [
    {
     "name": "stdout",
     "output_type": "stream",
     "text": [
      "[[ 106.854   32.57    61.48   368.     200.   ]\n",
      " [  96.854   29.52    55.38   340.     172.   ]\n",
      " [  86.854   26.47    49.29   316.     148.   ]\n",
      " [  76.854   23.43    43.19   300.     132.   ]\n",
      " [  66.      20.12    36.57   278.     110.   ]\n",
      " [  56.      17.07    30.48   260.      92.   ]\n",
      " [  46.      14.02    24.38   240.      72.   ]\n",
      " [  36.      10.97    18.29   218.      50.   ]\n",
      " [  26.       7.92    12.19   198.      30.   ]\n",
      " [  16.       4.88     6.09   180.      12.   ]\n",
      " [   6.       1.83     0.     168.       0.   ]]\n"
     ]
    }
   ],
   "source": [
    "print(data)"
   ]
  },
  {
   "cell_type": "code",
   "execution_count": 6,
   "metadata": {
    "collapsed": false
   },
   "outputs": [],
   "source": [
    "xInFeet = data[ :, 0]\n",
    "tInNs = data[ :, 1]\n",
    "dx = [] #total change in distance travelled by the light in meters\n",
    "dt = [] #change in time"
   ]
  },
  {
   "cell_type": "code",
   "execution_count": 7,
   "metadata": {
    "collapsed": false
   },
   "outputs": [
    {
     "name": "stdout",
     "output_type": "stream",
     "text": [
      "[61.480598400000005, 55.384598400000002, 49.288598400000005, 43.192598400000001, 36.576000000000001, 30.48, 24.384, 18.288, 12.192, 6.0960000000000001, 0.0]\n"
     ]
    }
   ],
   "source": [
    "i = 0\n",
    "for i in range(len(xInFeet)):\n",
    "    dx.append(2*0.3048*(xInFeet[i]-xInFeet[10]))\n",
    "    i+=1\n",
    "print (dx)\n",
    "# calculates the total change in distance (twice the mirror's change) and converts it to meters"
   ]
  },
  {
   "cell_type": "code",
   "execution_count": 8,
   "metadata": {
    "collapsed": false
   },
   "outputs": [
    {
     "name": "stdout",
     "output_type": "stream",
     "text": [
      "[30.740000000000002, 27.689999999999998, 24.640000000000001, 21.600000000000001, 18.289999999999999, 15.24, 12.19, 9.1400000000000006, 6.0899999999999999, 3.0499999999999998, 0.0]\n"
     ]
    }
   ],
   "source": [
    "j = 0\n",
    "for j in range(len(tInNs)):\n",
    "    dt.append(tInNs[j]-tInNs[10])\n",
    "    j+=1\n",
    "print (dt)\n",
    "#calculates the change in time"
   ]
  },
  {
   "cell_type": "code",
   "execution_count": 9,
   "metadata": {
    "collapsed": false
   },
   "outputs": [],
   "source": [
    "dx = np.array(dx)\n",
    "dt = np.array(dt)\n",
    "#transforms dx and dt from lists into arrays"
   ]
  },
  {
   "cell_type": "markdown",
   "metadata": {},
   "source": [
    "Uncertainties: $\\Delta x = \\pm 0.04m$, $\\Delta t = \\pm 4 ns$\n",
    "\n",
    "$c = \\frac{dx}{dt}$\n",
    "\n",
    "$\\Delta c = \\sqrt{(\\frac{\\partial c}{\\partial x}\\Delta x)^2 + (\\frac{\\partial c}{\\partial t}\\Delta t)^2}$\n",
    "\n",
    "$\\Delta c = \\sqrt{(\\frac{1}{t}0.04)^2 + (-xt^{-2}4\\times10^{-9})^2}$"
   ]
  },
  {
   "cell_type": "code",
   "execution_count": 10,
   "metadata": {
    "collapsed": true
   },
   "outputs": [],
   "source": [
    "uncertaintyInC = []"
   ]
  },
  {
   "cell_type": "code",
   "execution_count": 11,
   "metadata": {
    "collapsed": false
   },
   "outputs": [
    {
     "name": "stdout",
     "output_type": "stream",
     "text": [
      "[0.0016265452179570592, 0.0018057060310581439, 0.0020292207792207795, 0.0023148148148148147, 0.0027337342810278844, 0.0032808398950131233, 0.0041017227235438892, 0.0054704595185995622, 0.0082101806239737278, 0.016393442622950821]\n"
     ]
    }
   ],
   "source": [
    "k=0\n",
    "for k in range(len(dx)-1):\n",
    "    uncertaintyInC.append(np.sqrt(((0.05/dt[k])**2)+((dx[k]*dt[k])**(-2)*4*10**(-9))**2))\n",
    "    k+=1\n",
    "print(uncertaintyInC)"
   ]
  },
  {
   "cell_type": "code",
   "execution_count": 12,
   "metadata": {
    "collapsed": false
   },
   "outputs": [
    {
     "name": "stdout",
     "output_type": "stream",
     "text": [
      "0.00479666665082\n"
     ]
    }
   ],
   "source": [
    "dc = np.average(uncertaintyInC)\n",
    "print(dc) #this gives our average uncertainty of the speed of light)"
   ]
  },
  {
   "cell_type": "code",
   "execution_count": null,
   "metadata": {
    "collapsed": true
   },
   "outputs": [],
   "source": []
  },
  {
   "cell_type": "code",
   "execution_count": 13,
   "metadata": {
    "collapsed": false
   },
   "outputs": [
    {
     "name": "stdout",
     "output_type": "stream",
     "text": [
      "[ 1.99996547  0.00256527]\n",
      "[[  3.82386117e-08  -5.86342252e-07]\n",
      " [ -5.86342252e-07   1.26209562e-05]]\n"
     ]
    }
   ],
   "source": [
    "fitParams, fitCovariances = curve_fit(linearFit, dt, dx)\n",
    "print(fitParams)\n",
    "print(fitCovariances)"
   ]
  },
  {
   "cell_type": "code",
   "execution_count": 14,
   "metadata": {
    "collapsed": false
   },
   "outputs": [],
   "source": [
    "sigma = np.sqrt([fitCovariances[0,0], fitCovariances[1,1]])"
   ]
  },
  {
   "cell_type": "code",
   "execution_count": 16,
   "metadata": {
    "collapsed": false
   },
   "outputs": [
    {
     "name": "stderr",
     "output_type": "stream",
     "text": [
      "/Users/samuelbphotos/anaconda/envs/py34/lib/python3.4/site-packages/matplotlib/collections.py:590: FutureWarning: elementwise comparison failed; returning scalar instead, but in the future will perform elementwise comparison\n",
      "  if self._edgecolors == str('face'):\n"
     ]
    },
    {
     "data": {
      "image/png": "[encoded data removed]",
      "text/plain": [
       "<matplotlib.figure.Figure at 0x1106d8f98>"
      ]
     },
     "metadata": {},
     "output_type": "display_data"
    }
   ],
   "source": [
    "plt.plot (dt, dx, 'o')\n",
    "plt.errorbar(dt, dx, fmt = 'ro', xerr=0.000000004, yerr = .05)\n",
    "plt.xlabel('Change in Time (s)', fontsize = 14)\n",
    "plt.ylabel('Change in Distance (M)', fontsize = 14)\n",
    "plt.title('Speed of Light (M/s)', fontsize = 18)\n",
    "plt.plot(dt, linearFit(dt, fitParams[0], fitParams[1]), label='$c=3.076 \\times 10^8 m/s \\pm  $')\n",
    "plt.legend(bbox_to_anchor=(0.25,0.95))\n",
    "plt.show()"
   ]
  },
  {
   "cell_type": "code",
   "execution_count": null,
   "metadata": {
    "collapsed": true
   },
   "outputs": [],
   "source": []
  },
  {
   "cell_type": "code",
   "execution_count": null,
   "metadata": {
    "collapsed": true
   },
   "outputs": [],
   "source": []
  },
  {
   "cell_type": "code",
   "execution_count": null,
   "metadata": {
    "collapsed": true
   },
   "outputs": [],
   "source": []
  }
 ],
 "metadata": {
  "kernelspec": {
   "display_name": "Python 3",
   "language": "python",
   "name": "python3"
  },
  "language_info": {
   "codemirror_mode": {
    "name": "ipython",
    "version": 3
   },
   "file_extension": ".py",
   "mimetype": "text/x-python",
   "name": "python",
   "nbconvert_exporter": "python",
   "pygments_lexer": "ipython3",
   "version": "3.4.4"
  }
 },
 "nbformat": 4,
 "nbformat_minor": 0
}
