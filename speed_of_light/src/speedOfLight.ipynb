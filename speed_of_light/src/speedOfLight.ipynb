{
 "cells": [
  {
   "cell_type": "code",
   "execution_count": 2,
   "metadata": {
    "collapsed": true
   },
   "outputs": [],
   "source": [
    "import numpy as np\n",
    "import matplotlib.pyplot as plt\n",
    "from scipy.optimize import curve_fit\n",
    "import uncertainties as un\n",
    "from uncertainties import ufloat\n",
    "% matplotlib inline\n",
    "from matplotlib import rc\n",
    "rc('text', usetex=True)\n",
    "from pylab import rcParams\n",
    "rcParams['figure.figsize'] = 10,8"
   ]
  },
  {
   "cell_type": "code",
   "execution_count": 3,
   "metadata": {
    "collapsed": true
   },
   "outputs": [],
   "source": [
    "# Uncertainty in distance (meters)\n",
    "dist_uncert = 0.05\n",
    "# uncertainty in time (s)\n",
    "time_uncert = 4e-9"
   ]
  },
  {
   "cell_type": "code",
   "execution_count": 4,
   "metadata": {
    "collapsed": true
   },
   "outputs": [],
   "source": [
    "def linearFit(t, m, b): \n",
    "    return m*t + b\n",
    "\n",
    "#defines linear fit function"
   ]
  },
  {
   "cell_type": "code",
   "execution_count": 5,
   "metadata": {
    "collapsed": false
   },
   "outputs": [],
   "source": [
    "data = np.genfromtxt('../data/rawData.csv', delimiter = ',', skip_header=True)\n",
    "#imports data from text file"
   ]
  },
  {
   "cell_type": "code",
   "execution_count": 6,
   "metadata": {
    "collapsed": false
   },
   "outputs": [
    {
     "name": "stdout",
     "output_type": "stream",
     "text": [
      "[[  1.06854000e+02   3.68000000e-07]\n",
      " [  9.68540000e+01   3.40000000e-07]\n",
      " [  8.68540000e+01   3.16000000e-07]\n",
      " [  7.68540000e+01   3.00000000e-07]\n",
      " [  6.60000000e+01   2.78000000e-07]\n",
      " [  5.60000000e+01   2.60000000e-07]\n",
      " [  4.60000000e+01   2.40000000e-07]\n",
      " [  3.60000000e+01   2.18000000e-07]\n",
      " [  2.60000000e+01   1.98000000e-07]\n",
      " [  1.60000000e+01   1.80000000e-07]\n",
      " [  6.00000000e+00   1.68000000e-07]]\n"
     ]
    }
   ],
   "source": [
    "print(data)"
   ]
  },
  {
   "cell_type": "code",
   "execution_count": 7,
   "metadata": {
    "collapsed": false
   },
   "outputs": [],
   "source": [
    "xInFeet = data[ :, 0]\n",
    "tInNs = data[ :, 1]\n",
    "dx = [] #total change in distance travelled by the light in meters\n",
    "dt = [] #change in time"
   ]
  },
  {
   "cell_type": "code",
   "execution_count": 8,
   "metadata": {
    "collapsed": false
   },
   "outputs": [
    {
     "name": "stdout",
     "output_type": "stream",
     "text": [
      "[61.480598400000005, 55.384598400000002, 49.288598400000005, 43.192598400000001, 36.576000000000001, 30.48, 24.384, 18.288, 12.192, 6.0960000000000001, 0.0]\n"
     ]
    }
   ],
   "source": [
    "i = 0\n",
    "for i in range(len(xInFeet)):\n",
    "    dx.append(2*0.3048*(xInFeet[i]-xInFeet[10]))\n",
    "print (dx)\n",
    "# calculates the total change in distance (twice the mirror's change) and converts it to meters"
   ]
  },
  {
   "cell_type": "code",
   "execution_count": 9,
   "metadata": {
    "collapsed": false
   },
   "outputs": [
    {
     "name": "stdout",
     "output_type": "stream",
     "text": [
      "[2.0000000000000002e-07, 1.7199999999999998e-07, 1.4800000000000003e-07, 1.3199999999999999e-07, 1.0999999999999998e-07, 9.2000000000000003e-08, 7.1999999999999983e-08, 4.9999999999999998e-08, 3.0000000000000004e-08, 1.2000000000000002e-08, 0.0]\n"
     ]
    }
   ],
   "source": [
    "j = 0\n",
    "for j in range(len(tInNs)):\n",
    "    dt.append(tInNs[j]-tInNs[10])\n",
    "print (dt)\n",
    "#calculates the change in time"
   ]
  },
  {
   "cell_type": "code",
   "execution_count": 18,
   "metadata": {
    "collapsed": false
   },
   "outputs": [],
   "source": [
    "dx_wi_uncert = [ufloat(val, dist_uncert, \"dx\") for val in dx]\n",
    "dt_wi_uncert = [ufloat(val, time_uncert, \"dt\") for val in dt]\n",
    "\n",
    "dx = np.array(dx)\n",
    "dt = np.array(dt)\n",
    "#transforms dx and dt from lists into arrays"
   ]
  },
  {
   "cell_type": "markdown",
   "metadata": {},
   "source": [
    "Uncertainties: $\\Delta x = \\pm 0.04m$, $\\Delta t = \\pm 4 ns$\n",
    "\n",
    "$c = \\frac{dx}{dt}$\n",
    "\n",
    "$\\Delta c = \\sqrt{(\\frac{\\partial c}{\\partial x}\\Delta x)^2 + (\\frac{\\partial c}{\\partial t}\\Delta t)^2}$\n",
    "\n",
    "$\\Delta c = \\sqrt{(\\frac{1}{t}0.04)^2 + (-xt^{-2}4\\times10^{-9})^2}$"
   ]
  },
  {
   "cell_type": "code",
   "execution_count": 11,
   "metadata": {
    "collapsed": false
   },
   "outputs": [],
   "source": [
    "uncertaintyInC = []"
   ]
  },
  {
   "cell_type": "code",
   "execution_count": 12,
   "metadata": {
    "collapsed": false
   },
   "outputs": [
    {
     "name": "stdout",
     "output_type": "stream",
     "text": [
      "[250000.00139983758, 290697.67776039039, 337837.84620058478, 378787.8987754882, 454545.52171262621, 543478.49893511552, 694445.65700187022, 1000011.443072055, 1666934.8436267867, 4233185.3326617274]\n"
     ]
    }
   ],
   "source": [
    "k=0\n",
    "for k in range(len(dx)-1):\n",
    "    uncertaintyInC.append(np.sqrt(((0.05/dt[k])**2)+((dx[k]*dt[k])**(-2)*4*10**(-9))**2))\n",
    "    k+=1\n",
    "print(uncertaintyInC)"
   ]
  },
  {
   "cell_type": "code",
   "execution_count": 13,
   "metadata": {
    "collapsed": false
   },
   "outputs": [
    {
     "name": "stdout",
     "output_type": "stream",
     "text": [
      "9.850e+05\n"
     ]
    }
   ],
   "source": [
    "dc = np.average(uncertaintyInC)\n",
    "print(\"{:.3e}\".format(dc)) #this gives our average uncertainty of the speed of light)"
   ]
  },
  {
   "cell_type": "code",
   "execution_count": 15,
   "metadata": {
    "collapsed": false
   },
   "outputs": [
    {
     "name": "stdout",
     "output_type": "stream",
     "text": [
      "[  3.07631078e+08   2.19945059e+00]\n",
      "[[  3.52308043e+13  -3.26045077e+06]\n",
      " [ -3.26045077e+06   4.42639779e-01]]\n"
     ]
    }
   ],
   "source": [
    "fitParams, fitCovariances = curve_fit(linearFit, dt, dx)\n",
    "print(fitParams)\n",
    "print(fitCovariances)"
   ]
  },
  {
   "cell_type": "code",
   "execution_count": 16,
   "metadata": {
    "collapsed": false
   },
   "outputs": [],
   "source": [
    "sigma = np.sqrt([fitCovariances[0,0], fitCovariances[1,1]])"
   ]
  },
  {
   "cell_type": "code",
   "execution_count": 75,
   "metadata": {
    "collapsed": false
   },
   "outputs": [
    {
     "name": "stdout",
     "output_type": "stream",
     "text": [
      "dx = 2.5e+05 dt = 6.148060e+06\n"
     ]
    }
   ],
   "source": [
    "x_err = 0\n",
    "t_err = 0\n",
    "for (num,err) in c.error_components().items():\n",
    "    if num.tag is \"dx\":\n",
    "        x_err = err\n",
    "    else:\n",
    "        t_err = err\n",
    "        \n",
    "print(\"dx = {:.1e} dt = {:.6e}\".format(x_err, t_err))"
   ]
  },
  {
   "cell_type": "code",
   "execution_count": 99,
   "metadata": {
    "collapsed": false
   },
   "outputs": [
    {
     "name": "stdout",
     "output_type": "stream",
     "text": [
      "(3.0740+/-0.0870)e+08\n",
      "c_best = 3.07e+08\n",
      "c_err = 8.7e+06\n",
      "frac uncert = 0.028307645591300036\n",
      "range = 298701137.04875875 -- 316104846.95124125\n"
     ]
    }
   ],
   "source": [
    "change_in_x = dx_wi_uncert[0]-dx_wi_uncert[10]\n",
    "change_in_t = dt_wi_uncert[0]-dt_wi_uncert[10]\n",
    "c = change_in_x/change_in_t\n",
    "print(\"{:.5}\".format(c))\n",
    "print(\"c_best = {:.3}\".format(c.n))\n",
    "print(\"c_err = {:.3}\".format(c.s))\n",
    "print(\"frac uncert = {}\".format(c.s/c.n))\n",
    "print(\"range = {} -- {}\".format((c.n*(1 - c.s/c.n)),(c.n*(1 + c.s/c.n))))"
   ]
  },
  {
   "cell_type": "code",
   "execution_count": 105,
   "metadata": {
    "collapsed": false
   },
   "outputs": [
    {
     "name": "stderr",
     "output_type": "stream",
     "text": [
      "/Users/samuelbphotos/anaconda/envs/py34/lib/python3.4/site-packages/matplotlib/collections.py:590: FutureWarning: elementwise comparison failed; returning scalar instead, but in the future will perform elementwise comparison\n",
      "  if self._edgecolors == str('face'):\n"
     ]
    },
    {
     "data": {
      "image/png": "[encoded data removed]",
      "text/plain": [
       "<matplotlib.figure.Figure at 0x1103afda0>"
      ]
     },
     "metadata": {},
     "output_type": "display_data"
    }
   ],
   "source": [
    "min_slope = (fitParams[0]-c.s)\n",
    "max_slope = (fitParams[0]+c.s)\n",
    "\n",
    "lin_space_t = np.linspace(dt.min(), dt.max(), 100)\n",
    "\n",
    "plt.plot (dt, dx, 'o')\n",
    "plt.errorbar(dt, dx, fmt = 'ro', xerr=0.000000004, yerr = .05)\n",
    "plt.xlabel('Change in Time (s)', fontsize = 14)\n",
    "plt.ylabel('Change in Distance (M)', fontsize = 14)\n",
    "plt.title('Speed of Light (M/s)', fontsize = 18)\n",
    "plt.plot(dt, linearFit(dt, fitParams[0], fitParams[1]), label='best fit line')\n",
    "plt.plot(lin_space_t, linearFit(lin_space_t, min_slope, 11/8*fitParams[1]), 'b', label='lower bound')\n",
    "plt.plot(lin_space_t, linearFit(lin_space_t, max_slope, 5/8*fitParams[1]), color='orange', label='upper bound')\n",
    "plt.text(0, 55,\"Slope: {:.2e}\".format(fitParams[0])+r' $\\pm$'+\" {:.1e} m/s\".format(c.s)+\n",
    "         \"\\nIntercept: {:.4} m\".format(fitParams[1])+\n",
    "         \"\\nRange = {:.2e} - {:.2e} m/s\".format(min_slope, max_slope), fontsize=14)\n",
    "plt.legend(bbox_to_anchor=(1,0.15))\n",
    "plt.savefig('../images/analysis.png', dpi=300)\n",
    "plt.show()"
   ]
  },
  {
   "cell_type": "code",
   "execution_count": null,
   "metadata": {
    "collapsed": true
   },
   "outputs": [],
   "source": []
  }
 ],
 "metadata": {
  "kernelspec": {
   "display_name": "Python 3",
   "language": "python",
   "name": "python3"
  },
  "language_info": {
   "codemirror_mode": {
    "name": "ipython",
    "version": 3
   },
   "file_extension": ".py",
   "mimetype": "text/x-python",
   "name": "python",
   "nbconvert_exporter": "python",
   "pygments_lexer": "ipython3",
   "version": "3.4.4"
  }
 },
 "nbformat": 4,
 "nbformat_minor": 0
}
