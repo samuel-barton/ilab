{
 "cells": [
  {
   "cell_type": "code",
   "execution_count": null,
   "metadata": {
    "collapsed": true
   },
   "outputs": [],
   "source": [
    "import numpy as np\n",
    "import matplotlib.pyplot as plt\n",
    "from scipy.optimize import curve_fit\n",
    "% matplotlib inline\n",
    "from matplotlib import rc\n",
    "rc('text', usetex=True)\n",
    "from pylab import rcParams\n",
    "rcParams['figure.figsize'] = 10,8"
   ]
  },
  {
   "cell_type": "code",
   "execution_count": null,
   "metadata": {
    "collapsed": true
   },
   "outputs": [],
   "source": [
    "def linearFit(t, m, b): \n",
    "    return m*t + b\n",
    "\n",
    "#defines linear fit function"
   ]
  },
  {
   "cell_type": "code",
   "execution_count": null,
   "metadata": {
    "collapsed": false
   },
   "outputs": [],
   "source": [
    "data = np.genfromtxt('rawData.csv', delimiter = ',', skip_header=True)\n",
    "#imports data from text file"
   ]
  },
  {
   "cell_type": "code",
   "execution_count": null,
   "metadata": {
    "collapsed": false
   },
   "outputs": [],
   "source": [
    "print(data)"
   ]
  },
  {
   "cell_type": "code",
   "execution_count": null,
   "metadata": {
    "collapsed": false
   },
   "outputs": [],
   "source": [
    "xInFeet = data[ :, 0]\n",
    "tInNs = data[ :, 1]\n",
    "dx = [] #total change in distance travelled by the light in meters\n",
    "dt = [] #change in time"
   ]
  },
  {
   "cell_type": "code",
   "execution_count": null,
   "metadata": {
    "collapsed": false
   },
   "outputs": [],
   "source": [
    "i = 0\n",
    "for i in range(len(xInFeet)):\n",
    "    dx.append(2*0.3048*(xInFeet[i]-xInFeet[10]))\n",
    "    i+=1\n",
    "print (dx)\n",
    "# calculates the total change in distance (twice the mirror's change) and converts it to meters"
   ]
  },
  {
   "cell_type": "code",
   "execution_count": null,
   "metadata": {
    "collapsed": false
   },
   "outputs": [],
   "source": [
    "j = 0\n",
    "for j in range(len(tInNs)):\n",
    "    dt.append(tInNs[j]-tInNs[10])\n",
    "    j+=1\n",
    "print (dt)\n",
    "#calculates the change in time"
   ]
  },
  {
   "cell_type": "code",
   "execution_count": null,
   "metadata": {
    "collapsed": false
   },
   "outputs": [],
   "source": [
    "dx = np.array(dx)\n",
    "dt = np.array(dt)\n",
    "#transforms dx and dt from lists into arrays"
   ]
  },
  {
   "cell_type": "markdown",
   "metadata": {},
   "source": [
    "Uncertainties: $\\Delta x = \\pm 0.04m$, $\\Delta t = \\pm 4 ns$\n",
    "\n",
    "$c = \\frac{dx}{dt}$\n",
    "\n",
    "$\\Delta c = \\sqrt{(\\frac{\\partial c}{\\partial x}\\Delta x)^2 + (\\frac{\\partial c}{\\partial t}\\Delta t)^2}$\n",
    "\n",
    "$\\Delta c = \\sqrt{(\\frac{1}{t}0.04)^2 + (-xt^{-2}4\\times10^{-9})^2}$"
   ]
  },
  {
   "cell_type": "code",
   "execution_count": null,
   "metadata": {
    "collapsed": true
   },
   "outputs": [],
   "source": [
    "uncertaintyInC = []"
   ]
  },
  {
   "cell_type": "code",
   "execution_count": null,
   "metadata": {
    "collapsed": false
   },
   "outputs": [],
   "source": [
    "k=0\n",
    "for k in range(len(dx)-1):\n",
    "    uncertaintyInC.append(np.sqrt(((0.05/dt[k])**2)+((dx[k]*dt[k])**(-2)*4*10**(-9))**2))\n",
    "    k+=1\n",
    "print(uncertaintyInC)"
   ]
  },
  {
   "cell_type": "code",
   "execution_count": null,
   "metadata": {
    "collapsed": false
   },
   "outputs": [],
   "source": [
    "dc = np.average(uncertaintyInC)\n",
    "print(dc) #this gives our average uncertainty of the speed of light)"
   ]
  },
  {
   "cell_type": "code",
   "execution_count": null,
   "metadata": {
    "collapsed": true
   },
   "outputs": [],
   "source": []
  },
  {
   "cell_type": "code",
   "execution_count": null,
   "metadata": {
    "collapsed": false
   },
   "outputs": [],
   "source": [
    "fitParams, fitCovariances = curve_fit(linearFit, dt, dx)\n",
    "print(fitParams)\n",
    "print(fitCovariances)"
   ]
  },
  {
   "cell_type": "code",
   "execution_count": null,
   "metadata": {
    "collapsed": false
   },
   "outputs": [],
   "source": [
    "sigma = np.sqrt([fitCovariances[0,0], fitCovariances[1,1]])"
   ]
  },
  {
   "cell_type": "code",
   "execution_count": null,
   "metadata": {
    "collapsed": false
   },
   "outputs": [],
   "source": [
    "plt.plot (dt, dx, 'o')\n",
    "plt.errorbar(dt, dx, fmt = 'ro', xerr=0.000000004, yerr = .05)\n",
    "plt.xlabel('Change in Time (s)', fontsize = 14)\n",
    "plt.ylabel('Change in Distance (M)', fontsize = 14)\n",
    "plt.title('Speed of Light (M/s)', fontsize = 18)\n",
    "plt.plot(dt, linearFit(dt, fitParams[0], fitParams[1]), label='$c=3.076 \\times 10^8 m/s \\pm  $')\n",
    "plt.legend(bbox_to_anchor=(0.25,0.95))\n",
    "plt.show"
   ]
  },
  {
   "cell_type": "code",
   "execution_count": null,
   "metadata": {
    "collapsed": true
   },
   "outputs": [],
   "source": []
  },
  {
   "cell_type": "code",
   "execution_count": null,
   "metadata": {
    "collapsed": true
   },
   "outputs": [],
   "source": []
  },
  {
   "cell_type": "code",
   "execution_count": null,
   "metadata": {
    "collapsed": true
   },
   "outputs": [],
   "source": []
  }
 ],
 "metadata": {
  "kernelspec": {
   "display_name": "Python 3",
   "language": "python",
   "name": "python3"
  },
  "language_info": {
   "codemirror_mode": {
    "name": "ipython",
    "version": 3
   },
   "file_extension": ".py",
   "mimetype": "text/x-python",
   "name": "python",
   "nbconvert_exporter": "python",
   "pygments_lexer": "ipython3",
   "version": "3.4.3"
  }
 },
 "nbformat": 4,
 "nbformat_minor": 0
}
